{
 "cells": [
  {
   "cell_type": "markdown",
   "metadata": {},
   "source": [
    "## <center>Introduction to Programming – Mini Project:</center>\n"
   ]
  },
  {
   "cell_type": "markdown",
   "metadata": {},
   "source": [
    "### Problem 1:\n",
    "\n",
    "1. Write a program to calculate area of shapes. Your program should be capable of calculating the area of a square, rectangle, triangle and a circle. The user should be presented with options to select the shape. Based on which shape is chosed by the user, the program should ask for the appropriate input and print the resulting area on the screen.\n",
    "\n",
    "When the program is run, the screen should display something like this:\n",
    "\n",
    "**Which shape would you like to calculate the area for? Please enter the option number-**<br>\n",
    "**1. Square**<br>\n",
    "**2. Rectangle**<br>\n",
    "**3. Triangle**<br>\n",
    "**4. Circle**<br>\n",
    "**Enter Option: _**\n",
    "\n",
    "Say the user enters the option 1.\n",
    "\n",
    "**Please enter the length of a side: _**\n",
    "\n",
    "If the user enters a value of 5. The output should be:\n",
    "\n",
    "**The area of the square is 25**\n",
    "\n",
    "This program should indicate that the input is invalid if the user enters a character instead of a number as input. For instance if the user enters a value of ‘a’ instead of 5 in the previous example the program should prompt:\n",
    "\n",
    "**Invalid input, please enter a number: _**\n"
   ]
  },
  {
   "cell_type": "code",
   "execution_count": 11,
   "metadata": {},
   "outputs": [
    {
     "name": "stdout",
     "output_type": "stream",
     "text": [
      "Enter Option:4\n",
      "The Area of Circle\n",
      "Enter Radius61\n",
      "The Area of Circle of Radius 61 is 11683.94\n"
     ]
    }
   ],
   "source": [
    "def Square():\n",
    "    s = int(input(\"Enter the length of a side:\"))\n",
    "    Area = s ** 2\n",
    "    print('The Area of Square of Length',s,'is',Area)\n",
    "    return Area\n",
    "    \n",
    "def Rectangle():\n",
    "    l = int(input(\"Enter Length\"))\n",
    "    b = int(input(\"Enter Breadth\"))\n",
    "    Area = l * b\n",
    "    print(\"The Area of Rectangle of Length\",l,\"and Breadth\",b,\"is\",Area)\n",
    "    \n",
    "def Triangle():\n",
    "    h = int(input(\"Enter Height\"))\n",
    "    b = int(input(\"Enter Breadth\"))\n",
    "    Area = 1/2 * b * h\n",
    "    print(\"The Area of Triangle of Height\",h,\"and Breadth\",b,\"is\",Area)\n",
    "    \n",
    "def Circle():\n",
    "    r = int(input(\"Enter Radius\"))\n",
    "    Area = 3.14 * (r **2)\n",
    "    print(\"The Area of Circle of Radius\",r,\"is\",Area)\n",
    "    \n",
    "            \n",
    "def shape(n):\n",
    "        while((n.isalpha()) and (n>4)):\n",
    "            print(\"Invalid Input,Please Enter a Number\")\n",
    "            n = int(input(\"Enter Option:\"))\n",
    "        if n == '1':\n",
    "            print(\"The Area of Square\")\n",
    "            Square()\n",
    "        elif n == '2':\n",
    "            print(\"The Area of Rectangle\")\n",
    "            Rectangle()\n",
    "        elif n == '3':\n",
    "            print(\"The Area of Triangle\")\n",
    "            Triangle()\n",
    "        elif n == '4':\n",
    "            print(\"The Area of Circle\")\n",
    "            Circle()\n",
    "                \n",
    "n = input(\"Enter Option:\")\n",
    "shape(n)\n"
   ]
  }
 ],
 "metadata": {
  "kernelspec": {
   "display_name": "Python 3",
   "language": "python",
   "name": "python3"
  },
  "language_info": {
   "codemirror_mode": {
    "name": "ipython",
    "version": 3
   },
   "file_extension": ".py",
   "mimetype": "text/x-python",
   "name": "python",
   "nbconvert_exporter": "python",
   "pygments_lexer": "ipython3",
   "version": "3.6.13"
  }
 },
 "nbformat": 4,
 "nbformat_minor": 2
}
